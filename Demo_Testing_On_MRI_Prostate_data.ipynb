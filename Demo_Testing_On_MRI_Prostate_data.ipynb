{
 "cells": [
  {
   "cell_type": "markdown",
   "id": "91e15559",
   "metadata": {},
   "source": [
    "# 1. Insert Necessary Packages"
   ]
  },
  {
   "cell_type": "code",
   "execution_count": 1,
   "id": "3acbb434",
   "metadata": {},
   "outputs": [],
   "source": [
    "from Testing_Utils.Raclahe_Process import *\n",
    "from glob import glob\n",
    "import sys\n",
    "os.environ['TF_CPP_MIN_LOG_LEVEL'] = '3'\n",
    "import os\n",
    "import warnings\n",
    "warnings.filterwarnings(\"ignore\")"
   ]
  },
  {
   "cell_type": "markdown",
   "id": "b40a6951",
   "metadata": {},
   "source": [
    "# 2. Specify \n",
    " - the folder path where all the nifti patients lie onto\n",
    " - the folder path where the RACLAHE processed patients are going to be stored\n",
    " - the weights path for the region proposition U-Net model (The Weights could be downloaded from here https://drive.google.com/drive/folders/1uctJpPYj2LyE-kuuXPIv3BSXSXgC4AdY?usp=share_link)"
   ]
  },
  {
   "cell_type": "code",
   "execution_count": 2,
   "id": "a93e518f",
   "metadata": {},
   "outputs": [
    {
     "name": "stdout",
     "output_type": "stream",
     "text": [
      "Insert the folder path where all the nifti patients lie onto\n",
      "C:\\Users\\dimza\\Desktop\\PAPERS SUBMISSIONS\\SCIENTIFIC REPORTS\\RACLAHE_TO_REPRODUCE\\pat_in\n",
      "Insert the folder path where the RACLAHE processed patients are going to be stored\n",
      "C:\\Users\\dimza\\Desktop\\PAPERS SUBMISSIONS\\SCIENTIFIC REPORTS\\RACLAHE_TO_REPRODUCE\n",
      "Insert the weights path for the region proposition U-Net model\n",
      "C:\\Users\\dimza\\Desktop\\PAPERS SUBMISSIONS\\SCIENTIFIC REPORTS\\RACLAHE_TO_REPRODUCE\\PYTHON_RACLAHE\\BBOX_WEIGHTS\\WHOLE GLAND\\checkpoint_external.h5\n"
     ]
    }
   ],
   "source": [
    "print(\"Insert the folder path where all the nifti patients lie onto\")\n",
    "user_input=str(input())\n",
    "print(\"Insert the folder path where the RACLAHE processed patients are going to be stored\")\n",
    "user_output=str(input())\n",
    "print(\"Insert the weights path for the region proposition U-Net model\")\n",
    "w_p=str(input())"
   ]
  },
  {
   "cell_type": "markdown",
   "id": "11368b06",
   "metadata": {},
   "source": [
    "# 3. Perform the RACLAHE operation"
   ]
  },
  {
   "cell_type": "code",
   "execution_count": 3,
   "id": "aafc4ddc",
   "metadata": {},
   "outputs": [
    {
     "name": "stdout",
     "output_type": "stream",
     "text": [
      "Raclahe filter application has ended \n"
     ]
    }
   ],
   "source": [
    "dirs = os.listdir(user_input) # the specified patients' folder (patients lie onto in nifti format)\n",
    "for index,file in enumerate(dirs):\n",
    "    path_inp=os.path.join(user_input,file) # read each patient\n",
    "    pat_name=str(file)\n",
    "    try:\n",
    "        metadata=Raclahe_process_nifti(pat_name,w_p,path_inp,user_output) # perform the raclahe process for each patient\n",
    "    except:\n",
    "        print(\"Info:\",\"Raclahe was unable to perform operation on that patient\")\n",
    "print('Raclahe filter application has ended ')"
   ]
  }
 ],
 "metadata": {
  "kernelspec": {
   "display_name": "Python 3",
   "language": "python",
   "name": "python3"
  },
  "language_info": {
   "codemirror_mode": {
    "name": "ipython",
    "version": 3
   },
   "file_extension": ".py",
   "mimetype": "text/x-python",
   "name": "python",
   "nbconvert_exporter": "python",
   "pygments_lexer": "ipython3",
   "version": "3.6.13"
  }
 },
 "nbformat": 4,
 "nbformat_minor": 5
}
