{
 "cells": [
  {
   "cell_type": "code",
   "execution_count": 4,
   "id": "3acbb434",
   "metadata": {},
   "outputs": [
    {
     "name": "stdout",
     "output_type": "stream",
     "text": [
      "Insert the folder path where all the nifti patients lie onto\n",
      "C:\\Users\\dimza\\Desktop\\PAPERS SUBMISSIONS\\SCIENTIFIC REPORTS\\RACLAHE_TO_REPRODUCE\\pat_in\n",
      "Insert the folder path where the RACLAHE processed patients are going to be stored\n",
      "C:\\Users\\dimza\\Desktop\\PAPERS SUBMISSIONS\\SCIENTIFIC REPORTS\\RACLAHE_TO_REPRODUCE\n",
      "Insert the weights path for the region proposition U-Net model\n",
      "C:\\Users\\dimza\\Desktop\\PAPERS SUBMISSIONS\\SCIENTIFIC REPORTS\\RACLAHE_TO_REPRODUCE\\PYTHON_RACLAHE\\BBOX_WEIGHTS\\WHOLE GLAND\\checkpoint_external.h5\n",
      "Raclahe filter application has been started ... \n"
     ]
    },
    {
     "data": {
      "text/html": [
       "<pre style=\"white-space:pre;overflow-x:auto;line-height:normal;font-family:Menlo,'DejaVu Sans Mono',consolas,'Courier New',monospace\">Raclahe filter application has ended \n",
       "</pre>\n"
      ],
      "text/plain": [
       "Raclahe filter application has ended \n"
      ]
     },
     "metadata": {},
     "output_type": "display_data"
    },
    {
     "data": {
      "text/html": [
       "<pre style=\"white-space:pre;overflow-x:auto;line-height:normal;font-family:Menlo,'DejaVu Sans Mono',consolas,'Courier New',monospace\"></pre>\n"
      ],
      "text/plain": []
     },
     "metadata": {},
     "output_type": "display_data"
    },
    {
     "data": {
      "text/html": [
       "<pre style=\"white-space:pre;overflow-x:auto;line-height:normal;font-family:Menlo,'DejaVu Sans Mono',consolas,'Courier New',monospace\">\n",
       "</pre>\n"
      ],
      "text/plain": [
       "\n"
      ]
     },
     "metadata": {},
     "output_type": "display_data"
    }
   ],
   "source": [
    "from Raclahe_Process import *\n",
    "from glob import glob\n",
    "import sys\n",
    "os.environ['TF_CPP_MIN_LOG_LEVEL'] = '3'\n",
    "import os\n",
    "import warnings\n",
    "warnings.filterwarnings(\"ignore\")\n",
    "\n",
    "\n",
    "print(\"Insert the folder path where all the nifti patients lie onto\")\n",
    "user_input=str(input())#\"/dir/input\"\n",
    "print(\"Insert the folder path where the RACLAHE processed patients are going to be stored\")\n",
    "user_output=str(input())#\"/dir/output\"\n",
    "print(\"Insert the weights path for the region proposition U-Net model\")\n",
    "w_p=str(input())\n",
    "\n",
    "dirs = os.listdir(user_input)\n",
    "    for index,file in enumerate(dirs):\n",
    "        path_inp=os.path.join(user_input,file)# version 1.2.1\n",
    "        pat_name=str(file)\n",
    "\n",
    "        try:\n",
    "            metadata=Raclahe_process_nifti(pat_name,w_p,path_inp,user_output)\n",
    "        except:\n",
    "            print(\"Info:\",\"Raclahe was unable to perform operation on that patient\")\n",
    "    print('Raclahe filter application has ended ')"
   ]
  },
  {
   "cell_type": "code",
   "execution_count": null,
   "id": "a93e518f",
   "metadata": {},
   "outputs": [],
   "source": [
    "C:\\Users\\dimza\\Desktop\\PAPERS SUBMISSIONS\\SCIENTIFIC REPORTS\\RACLAHE_TO_REPRODUCE\\PYTHON_RACLAHE\\BBOX_WEIGHTS\\WHOLE GLAND\\checkpoint_external.h5"
   ]
  }
 ],
 "metadata": {
  "kernelspec": {
   "display_name": "Python 3",
   "language": "python",
   "name": "python3"
  },
  "language_info": {
   "codemirror_mode": {
    "name": "ipython",
    "version": 3
   },
   "file_extension": ".py",
   "mimetype": "text/x-python",
   "name": "python",
   "nbconvert_exporter": "python",
   "pygments_lexer": "ipython3",
   "version": "3.6.13"
  }
 },
 "nbformat": 4,
 "nbformat_minor": 5
}
